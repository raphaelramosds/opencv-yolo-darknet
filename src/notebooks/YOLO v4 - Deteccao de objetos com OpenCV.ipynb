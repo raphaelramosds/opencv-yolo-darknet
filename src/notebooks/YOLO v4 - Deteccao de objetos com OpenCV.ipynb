{
 "cells": [
  {
   "cell_type": "markdown",
   "id": "dbf362a6",
   "metadata": {},
   "source": [
    "# Detectando objetos com YOLO v4 e OpenCV\n",
    "\n",
    "## Visão geral\n",
    "\n",
    "No notebook anterior, utilizamos o framework Darknet para realizar a detecção de objetos em imagens com o You only look once (YOLO). Entretanto, também é possível empregar o módulo cv2, que corresponde à implementação do OpenCV em Python, para executar a mesma tarefa, sem a necessidade de compilar (buildar) o framework Darknet."
   ]
  },
  {
   "cell_type": "code",
   "execution_count": null,
   "id": "693d1d87",
   "metadata": {},
   "outputs": [],
   "source": [
    "#"
   ]
  }
 ],
 "metadata": {
  "kernelspec": {
   "display_name": "opencv-yolo-darknet-OIo8HOCL-py3.12",
   "language": "python",
   "name": "python3"
  },
  "language_info": {
   "name": "python",
   "version": "3.12.3"
  }
 },
 "nbformat": 4,
 "nbformat_minor": 5
}
