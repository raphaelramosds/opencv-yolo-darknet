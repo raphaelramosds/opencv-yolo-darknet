{
 "cells": [
  {
   "cell_type": "markdown",
   "id": "4570d10d",
   "metadata": {},
   "source": [
    "# Detectando objetos com YOLO v4"
   ]
  },
  {
   "cell_type": "markdown",
   "id": "0da78eed",
   "metadata": {},
   "source": [
    "## Etapa 1 - Download do Darknet"
   ]
  },
  {
   "cell_type": "code",
   "execution_count": 49,
   "id": "b16e262a",
   "metadata": {},
   "outputs": [
    {
     "name": "stdout",
     "output_type": "stream",
     "text": [
      "fatal: destination path '/tmp/darknet' already exists and is not an empty directory.\n"
     ]
    }
   ],
   "source": [
    "DARKNET_PATH='/tmp/darknet'\n",
    "\n",
    "!git clone https://github.com/pjreddie/darknet.git {DARKNET_PATH}"
   ]
  },
  {
   "cell_type": "markdown",
   "id": "2638b158",
   "metadata": {},
   "source": [
    "## Etapa 2 - Compilando a biblioteca"
   ]
  },
  {
   "cell_type": "code",
   "execution_count": 50,
   "id": "ba23a77d",
   "metadata": {},
   "outputs": [
    {
     "name": "stdout",
     "output_type": "stream",
     "text": [
      "/tmp/darknet\n"
     ]
    }
   ],
   "source": [
    "cd {DARKNET_PATH}"
   ]
  },
  {
   "cell_type": "code",
   "execution_count": 51,
   "id": "121a9748",
   "metadata": {},
   "outputs": [
    {
     "name": "stdout",
     "output_type": "stream",
     "text": [
      "make: Nothing to be done for 'all'.\n"
     ]
    }
   ],
   "source": [
    "!make"
   ]
  },
  {
   "cell_type": "markdown",
   "id": "ac274ac0",
   "metadata": {},
   "source": [
    "## Etapa 3 - Baixando os pesos do modelo pré-treinado"
   ]
  },
  {
   "cell_type": "code",
   "execution_count": 52,
   "id": "6d7b00b6",
   "metadata": {},
   "outputs": [
    {
     "name": "stdout",
     "output_type": "stream",
     "text": [
      "Weights file not found. Downloading it...\n",
      "Done.\n"
     ]
    }
   ],
   "source": [
    "import os\n",
    "from urllib.request import urlretrieve\n",
    "from urllib.parse import urlparse\n",
    "\n",
    "weights_url = \"https://data.pjreddie.com/files/yolov3.weights\"\n",
    "weights_path = os.path.join(DARKNET_PATH, os.path.basename(urlparse(weights_url).path))\n",
    "\n",
    "if not os.path.exists(weights_path):\n",
    "    print(\"Weights file not found. Downloading it...\")\n",
    "    urlretrieve(weights_url, weights_path)\n",
    "    print(\"Done.\")\n",
    "else:\n",
    "    print(\"Weights file already exist.\")"
   ]
  },
  {
   "cell_type": "markdown",
   "id": "18f697a5",
   "metadata": {},
   "source": [
    "## Etapa 4 - Testando o detector"
   ]
  },
  {
   "cell_type": "code",
   "execution_count": null,
   "id": "827e3ca2",
   "metadata": {},
   "outputs": [],
   "source": []
  }
 ],
 "metadata": {
  "kernelspec": {
   "display_name": "opencv-yolo-darknet-OIo8HOCL-py3.12",
   "language": "python",
   "name": "python3"
  },
  "language_info": {
   "codemirror_mode": {
    "name": "ipython",
    "version": 3
   },
   "file_extension": ".py",
   "mimetype": "text/x-python",
   "name": "python",
   "nbconvert_exporter": "python",
   "pygments_lexer": "ipython3",
   "version": "3.12.3"
  }
 },
 "nbformat": 4,
 "nbformat_minor": 5
}
