{
 "cells": [
  {
   "cell_type": "markdown",
   "id": "4570d10d",
   "metadata": {},
   "source": [
    "# Detectando objetos com YOLO v4"
   ]
  },
  {
   "cell_type": "markdown",
   "id": "0da78eed",
   "metadata": {},
   "source": [
    "## Etapa 1 - Download do Darknet"
   ]
  },
  {
   "cell_type": "code",
   "execution_count": 1,
   "id": "b16e262a",
   "metadata": {},
   "outputs": [
    {
     "name": "stdout",
     "output_type": "stream",
     "text": [
      "'YOLO v4 - Deteccao de objetos com Darknet.ipynb'\n"
     ]
    }
   ],
   "source": [
    "ls"
   ]
  }
 ],
 "metadata": {
  "kernelspec": {
   "display_name": "opencv-yolo-darknet-OIo8HOCL-py3.12",
   "language": "python",
   "name": "python3"
  },
  "language_info": {
   "codemirror_mode": {
    "name": "ipython",
    "version": 3
   },
   "file_extension": ".py",
   "mimetype": "text/x-python",
   "name": "python",
   "nbconvert_exporter": "python",
   "pygments_lexer": "ipython3",
   "version": "3.12.3"
  }
 },
 "nbformat": 4,
 "nbformat_minor": 5
}
