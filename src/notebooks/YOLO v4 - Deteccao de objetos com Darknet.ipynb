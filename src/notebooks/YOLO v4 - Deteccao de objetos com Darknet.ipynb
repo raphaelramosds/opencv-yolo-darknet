{
 "cells": [
  {
   "cell_type": "markdown",
   "id": "4570d10d",
   "metadata": {},
   "source": [
    "# Detectando objetos com YOLO v4"
   ]
  },
  {
   "cell_type": "markdown",
   "id": "0da78eed",
   "metadata": {},
   "source": [
    "## Etapa 1 - Download do Darknet"
   ]
  },
  {
   "cell_type": "code",
   "execution_count": 36,
   "id": "b16e262a",
   "metadata": {},
   "outputs": [
    {
     "name": "stdout",
     "output_type": "stream",
     "text": [
      "fatal: destination path '/tmp/darknet' already exists and is not an empty directory.\n"
     ]
    }
   ],
   "source": [
    "DARKNET_PATH='/tmp/darknet'\n",
    "\n",
    "!git clone https://github.com/pjreddie/darknet.git {DARKNET_PATH}"
   ]
  },
  {
   "cell_type": "markdown",
   "id": "2638b158",
   "metadata": {},
   "source": [
    "## Etapa 2 - Compilando a biblioteca"
   ]
  },
  {
   "cell_type": "code",
   "execution_count": 37,
   "id": "ba23a77d",
   "metadata": {},
   "outputs": [
    {
     "name": "stdout",
     "output_type": "stream",
     "text": [
      "/tmp/darknet\n"
     ]
    }
   ],
   "source": [
    "cd {DARKNET_PATH}"
   ]
  },
  {
   "cell_type": "code",
   "execution_count": 38,
   "id": "121a9748",
   "metadata": {},
   "outputs": [
    {
     "name": "stdout",
     "output_type": "stream",
     "text": [
      "make: Nothing to be done for 'all'.\n"
     ]
    }
   ],
   "source": [
    "!make"
   ]
  },
  {
   "cell_type": "markdown",
   "id": "ac274ac0",
   "metadata": {},
   "source": [
    "## Etapa 3 - Baixando os pesos do modelo pré-treinado"
   ]
  },
  {
   "cell_type": "code",
   "execution_count": 39,
   "id": "6d7b00b6",
   "metadata": {},
   "outputs": [
    {
     "name": "stdout",
     "output_type": "stream",
     "text": [
      "--2025-09-07 08:38:35--  https://data.pjreddie.com/files/yolov3.weights\n",
      "Resolving data.pjreddie.com (data.pjreddie.com)... 104.21.88.156, 172.67.185.199, 2606:4700:3037::6815:589c, ...\n",
      "Connecting to data.pjreddie.com (data.pjreddie.com)|104.21.88.156|:443... connected.\n",
      "HTTP request sent, awaiting response... 200 OK\n",
      "Length: 248007048 (237M) [application/octet-stream]\n",
      "Saving to: ‘yolov3.weights’\n",
      "\n",
      "yolov3.weights      100%[===================>] 236.52M  38.8MB/s    in 6.5s    \n",
      "\n",
      "2025-09-07 08:38:42 (36.2 MB/s) - ‘yolov3.weights’ saved [248007048/248007048]\n",
      "\n"
     ]
    }
   ],
   "source": [
    "# You already have the config file for YOLO in the cfg/ subdirectory. You will have to download the pre-trained weight file\n",
    "!wget -O yolov3.weights https://data.pjreddie.com/files/yolov3.weights"
   ]
  },
  {
   "cell_type": "markdown",
   "id": "18f697a5",
   "metadata": {},
   "source": [
    "## Etapa 4 - Testando o detector"
   ]
  },
  {
   "cell_type": "code",
   "execution_count": null,
   "id": "827e3ca2",
   "metadata": {},
   "outputs": [],
   "source": [
    "# Silence is golden"
   ]
  }
 ],
 "metadata": {
  "kernelspec": {
   "display_name": "opencv-yolo-darknet-OIo8HOCL-py3.12",
   "language": "python",
   "name": "python3"
  },
  "language_info": {
   "codemirror_mode": {
    "name": "ipython",
    "version": 3
   },
   "file_extension": ".py",
   "mimetype": "text/x-python",
   "name": "python",
   "nbconvert_exporter": "python",
   "pygments_lexer": "ipython3",
   "version": "3.12.3"
  }
 },
 "nbformat": 4,
 "nbformat_minor": 5
}
